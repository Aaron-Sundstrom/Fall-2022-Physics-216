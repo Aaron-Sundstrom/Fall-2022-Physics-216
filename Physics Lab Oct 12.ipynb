{
 "cells": [
  {
   "cell_type": "code",
   "execution_count": 26,
   "id": "111a2437",
   "metadata": {
    "scrolled": true
   },
   "outputs": [
    {
     "name": "stdout",
     "output_type": "stream",
     "text": [
      "2.5238858928247927\n"
     ]
    }
   ],
   "source": [
    "#Dont do the last question of the lab assignment#\n",
    "import numpy as np\n",
    "\n",
    "def rule3(dA,dB):\n",
    "    dQ = np.sqrt(dA**2+dB**2)\n",
    "    return dQ\n",
    "\n",
    "var1 = 1.4\n",
    "var2 = 2.1\n",
    "\n",
    "dQ = rule3(var1,var2)\n",
    "print(dQ)\n",
    "    "
   ]
  },
  {
   "cell_type": "markdown",
   "id": "5a5da213",
   "metadata": {},
   "source": [
    "This is rule 3 in generic form\n",
    "\n",
    "$\\delta Q = \\sqrt{(\\delta A)^2 + (\\delta B)^2}$"
   ]
  },
  {
   "cell_type": "code",
   "execution_count": 27,
   "id": "48fb2476",
   "metadata": {},
   "outputs": [
    {
     "name": "stdout",
     "output_type": "stream",
     "text": [
      "2.2540000000000004\n"
     ]
    }
   ],
   "source": [
    "import numpy as np\n",
    "def rule1(c,dA):\n",
    "    dQ = c*dA\n",
    "    return dQ\n",
    "var1 = 9.8\n",
    "var2 = .23\n",
    "dQ = rule1(var1,var2)\n",
    "print(dQ)\n"
   ]
  },
  {
   "cell_type": "code",
   "execution_count": 28,
   "id": "b9a52b52",
   "metadata": {},
   "outputs": [
    {
     "name": "stdout",
     "output_type": "stream",
     "text": [
      "4.08\n"
     ]
    }
   ],
   "source": [
    "import numpy as np\n",
    "def rule2(c,A,m,dA):\n",
    "    dQ = c*m*(A**(m-1)*dA)\n",
    "    return dQ\n",
    "\n",
    "var1 = 2\n",
    "var2 = 3\n",
    "var3 = 2\n",
    "var4 = .34\n",
    "dQ = rule2(var1,var2,var3,var4)\n",
    "print(dQ)"
   ]
  },
  {
   "cell_type": "code",
   "execution_count": 29,
   "id": "9b758ff4",
   "metadata": {},
   "outputs": [
    {
     "name": "stdout",
     "output_type": "stream",
     "text": [
      "7.112648814904868\n"
     ]
    }
   ],
   "source": [
    "import numpy as np\n",
    "def rule4(Q,A,m,B,n,dA,dB):\n",
    "    dQ = Q*(np.sqrt((((m*dA)/A)**2) + (((n*dB)/B)**2)))\n",
    "    return dQ\n",
    "var1 = 2\n",
    "var2 = 3\n",
    "var3 = 4\n",
    "var5 = 2\n",
    "var6 = 2\n",
    "var7 = .4\n",
    "\n",
    "dQ = rule4(var1,var2,var3,var4,var5,var6,var7)\n",
    "print(dQ)"
   ]
  },
  {
   "cell_type": "code",
   "execution_count": 30,
   "id": "9854075e",
   "metadata": {},
   "outputs": [
    {
     "name": "stdout",
     "output_type": "stream",
     "text": [
      "The Standard deviation of this data set is 0.17950549357115014  and the average is  1.1166666666666667\n"
     ]
    }
   ],
   "source": [
    "import numpy as np\n",
    "x = np.array([1.1,1.3,1.4,0.9,0.95,1.05])\n",
    "std_dev = np.std(x)\n",
    "avg = np.average(x)\n",
    "\n",
    "print('The Standard deviation of this data set is',std_dev,\" and the average is \",avg)\n",
    "\n"
   ]
  },
  {
   "cell_type": "markdown",
   "id": "b4d2b4a6",
   "metadata": {},
   "source": [
    "this is the equation for Method 2 from last week\n",
    "\n",
    "$\\delta v = v_i \\sqrt{(\\frac{\\delta x}{x})^2+(\\frac{\\frac{1}{2}\\delta y}{y})^2}$ "
   ]
  },
  {
   "cell_type": "code",
   "execution_count": 33,
   "id": "e3858d20",
   "metadata": {},
   "outputs": [
    {
     "name": "stdout",
     "output_type": "stream",
     "text": [
      "0.004047550847887372\n",
      "This is a very different result as I did it completely wrong on my assignment :)\n"
     ]
    }
   ],
   "source": [
    "#Recalculation from Method 2 of last week\n",
    "import numpy as np\n",
    "\n",
    "v = 2.55\n",
    "x = 1.155\n",
    "dx = 0.00181\n",
    "y = .991\n",
    "dy = .0005\n",
    "m = 1\n",
    "n = .5\n",
    "\n",
    "dV = rule4(v,x,m,y,n,dx,dy)\n",
    "print(dV)\n",
    "\n",
    "print('This is a very different result as I did it completely wrong on my assignment :)')\n"
   ]
  },
  {
   "cell_type": "code",
   "execution_count": null,
   "id": "4050e9d4",
   "metadata": {},
   "outputs": [],
   "source": []
  }
 ],
 "metadata": {
  "kernelspec": {
   "display_name": "Python 3 (ipykernel)",
   "language": "python",
   "name": "python3"
  },
  "language_info": {
   "codemirror_mode": {
    "name": "ipython",
    "version": 3
   },
   "file_extension": ".py",
   "mimetype": "text/x-python",
   "name": "python",
   "nbconvert_exporter": "python",
   "pygments_lexer": "ipython3",
   "version": "3.9.12"
  }
 },
 "nbformat": 4,
 "nbformat_minor": 5
}
